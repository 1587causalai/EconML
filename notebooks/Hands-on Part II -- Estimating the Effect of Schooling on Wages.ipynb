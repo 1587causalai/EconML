{
 "cells": [
  {
   "cell_type": "markdown",
   "metadata": {},
   "source": [
    "\n",
    "# Estimating the Effect of Schooling on Wages: Intrumental Variables Application\n",
    "\n",
    "### Summary of Contents:\n",
    "1. [Introduction](#intro)\n",
    "2. [NLSYM Dataset](#data)\n",
    "3. [A Gentle Start: The Naive Approach](#naive)\n",
    "4. [Using Instrumental Variables: 2SLS](#2sls)\n",
    "5. [Bonus: Deep Instrumental Variables](#deepiv)"
   ]
  },
  {
   "cell_type": "markdown",
   "metadata": {},
   "source": [
    "# 1. Introduction <a class=\"anchor\" id=\"intro\"></a>\n",
    "\n",
    "To measure true causal effects of a treatment $T$ on an outcome $Y$ from observational data, we need to record all features $X$ that might influence both $T$ and $Y$. These $X$'s are called confounders. \n",
    "\n",
    "When some confounders are not recorded in the data, we might get biased estimates of the treatment effect. Here is an example:\n",
    "* Children of high-income parents might attain higher levels of education (e.g. college) since they can afford it\n",
    "* Children of high-income parents might also obtain better paying jobs due to parents' connections and knowledge\n",
    "* At first sight, it might appear as if education has an effect on income, when in fact this could be fully explained by family background\n",
    "\n",
    "There are several reasons for not recording all possible confounders, such as incomplete data or a confounder that is difficult to quantify (e.g. parental involvement). However, not all is lost! In cases such as these, we can use instrumental variables $Z$, features that affect the outcome only through their effect on the treatment. \n",
    "\n",
    "In this notebook, we use a real-world problem to show how treatment effects can be extracted with the help of instrumental variables. "
   ]
  },
  {
   "cell_type": "markdown",
   "metadata": {},
   "source": [
    "# 2. NLSYM Dataset <a class=\"anchor\" id=\"data\"></a>"
   ]
  },
  {
   "cell_type": "markdown",
   "metadata": {},
   "source": [
    "The **causal impact of schooling on wages** had been studied at length. Although it is generally agreed that there is a positive impact, it is difficult to measure this effect precisely. The core problem is that education levels are not assigned at random in the population and we cannot record all possible confounders. (Think about the value parents assign to education. How would you quantify how valuable parents think their children's education is?). \n",
    "\n",
    "<img src=\"https://straubroland.files.wordpress.com/2010/12/education_technology-resized-600.png\" width=400px/>\n",
    "\n",
    "To get around this issue, we can use **proximity to a 4-year college** as an instrumental variable. Having a college nearby can allow individuals (especially low-income ones) to complete more years of education. Hence, if there was a positive treatment effect, we would expect these individuals to have higher wages on average. Note that college proximity is a valid IV since it does not affect wages directly.  \n",
    "\n",
    "We use data from the National Longitudinal Survey of Young Men (NLSYM, 1966) to estimate the average treatment effect (ATE) of education on wages (see also [Card, 1999](https://www.nber.org/papers/w4483)). The NLSYM data contains entries from men ages 14-24 that were interviewed in 1966 and again in 1976. \n",
    "\n",
    "The dataset contains the following variables:\n",
    "* $Y$ (outcome): wages (log)\n",
    "* $T$ (treatment): years of schooling\n",
    "* $Z$ (IV): proximity to a 4-year college (binary)\n",
    "* $X$ (heterogeneity): e.g. parental education\n",
    "* $W$ (controls): e.g. family composition, location, etc.\n",
    "\n",
    "The world can then be modelled as:\n",
    "$$\n",
    "\\begin{align}\n",
    "Y & = \\theta(X) \\cdot T + f(W) + \\epsilon\\\\\n",
    "T & = g(Z, W) + \\eta\n",
    "\\end{align}\n",
    "$$\n",
    "where $\\epsilon, \\eta$ are uncorrelated error terms."
   ]
  },
  {
   "cell_type": "code",
   "execution_count": 1,
   "metadata": {},
   "outputs": [
    {
     "name": "stderr",
     "output_type": "stream",
     "text": [
      "Using TensorFlow backend.\n"
     ]
    }
   ],
   "source": [
    "# Python imports\n",
    "import keras\n",
    "import matplotlib.pyplot as plt\n",
    "import numpy as np\n",
    "import pandas as pd\n",
    "from scipy.stats import pearsonr\n",
    "from sklearn.ensemble import RandomForestRegressor\n",
    "from sklearn.linear_model import LinearRegression\n",
    "from sklearn.model_selection import KFold\n",
    "from sklearn.preprocessing import PolynomialFeatures, StandardScaler\n",
    "\n",
    "# EconML imports\n",
    "from econml.dml import DMLCateEstimator\n",
    "from econml.two_stage_least_squares import NonparametricTwoStageLeastSquares\n",
    "from econml.deepiv import DeepIVEstimator\n",
    "\n",
    "%matplotlib inline"
   ]
  },
  {
   "cell_type": "code",
   "execution_count": 2,
   "metadata": {},
   "outputs": [],
   "source": [
    "# Data processing\n",
    "df = pd.read_csv(\"data/card.csv\", dtype=float)\n",
    "# Filter out individuals with low education levels (outliers)\n",
    "data_filter = df['educ'].values >= 6\n",
    "# Define some variables\n",
    "T = df['educ'].values[data_filter]\n",
    "Z = df['nearc4'].values[data_filter]\n",
    "Y = df['lwage'].values[data_filter]\n",
    "\n",
    "# Impute missing values with mean, add dummy columns\n",
    "# Filter outliers (interviewees with less than 6 years of education)\n",
    "X_df = df[['exper', 'expersq']].copy()\n",
    "X_df['fatheduc'] = df['fatheduc'].fillna(value=df['fatheduc'].mean())\n",
    "X_df['fatheduc_nan'] = df['fatheduc'].isnull() * 1\n",
    "X_df['motheduc'] = df['motheduc'].fillna(value=df['motheduc'].mean())\n",
    "X_df['motheduc_nan'] = df['motheduc'].isnull() * 1\n",
    "X_df[['momdad14', 'sinmom14', 'reg661', 'reg662',\n",
    "        'reg663', 'reg664', 'reg665', 'reg666', 'reg667', 'reg668', 'reg669', 'south66']] = df[['momdad14', 'sinmom14', \n",
    "        'reg661', 'reg662','reg663', 'reg664', 'reg665', 'reg666', 'reg667', 'reg668', 'reg669', 'south66']]\n",
    "X_df[['black', 'smsa', 'south', 'smsa66']] = df[['black', 'smsa', 'south', 'smsa66']]\n",
    "columns_to_scale = ['fatheduc', 'motheduc', 'exper', 'expersq']\n",
    "# Scale continuous variables\n",
    "scaler = StandardScaler()\n",
    "X_df[columns_to_scale] = scaler.fit_transform(X_df[columns_to_scale])\n",
    "X = X_df.values[data_filter]"
   ]
  },
  {
   "cell_type": "code",
   "execution_count": 3,
   "metadata": {},
   "outputs": [
    {
     "data": {
      "text/html": [
       "<div>\n",
       "<style scoped>\n",
       "    .dataframe tbody tr th:only-of-type {\n",
       "        vertical-align: middle;\n",
       "    }\n",
       "\n",
       "    .dataframe tbody tr th {\n",
       "        vertical-align: top;\n",
       "    }\n",
       "\n",
       "    .dataframe thead th {\n",
       "        text-align: right;\n",
       "    }\n",
       "</style>\n",
       "<table border=\"1\" class=\"dataframe\">\n",
       "  <thead>\n",
       "    <tr style=\"text-align: right;\">\n",
       "      <th></th>\n",
       "      <th>exper</th>\n",
       "      <th>expersq</th>\n",
       "      <th>fatheduc</th>\n",
       "      <th>fatheduc_nan</th>\n",
       "      <th>motheduc</th>\n",
       "      <th>motheduc_nan</th>\n",
       "      <th>momdad14</th>\n",
       "      <th>sinmom14</th>\n",
       "      <th>reg661</th>\n",
       "      <th>reg662</th>\n",
       "      <th>...</th>\n",
       "      <th>reg665</th>\n",
       "      <th>reg666</th>\n",
       "      <th>reg667</th>\n",
       "      <th>reg668</th>\n",
       "      <th>reg669</th>\n",
       "      <th>south66</th>\n",
       "      <th>black</th>\n",
       "      <th>smsa</th>\n",
       "      <th>south</th>\n",
       "      <th>smsa66</th>\n",
       "    </tr>\n",
       "  </thead>\n",
       "  <tbody>\n",
       "    <tr>\n",
       "      <th>0</th>\n",
       "      <td>1.725159</td>\n",
       "      <td>1.896133</td>\n",
       "      <td>5.439188e-16</td>\n",
       "      <td>1</td>\n",
       "      <td>0.000000</td>\n",
       "      <td>1</td>\n",
       "      <td>1.0</td>\n",
       "      <td>0.0</td>\n",
       "      <td>1.0</td>\n",
       "      <td>0.0</td>\n",
       "      <td>...</td>\n",
       "      <td>0.0</td>\n",
       "      <td>0.0</td>\n",
       "      <td>0.0</td>\n",
       "      <td>0.0</td>\n",
       "      <td>0.0</td>\n",
       "      <td>0.0</td>\n",
       "      <td>1.0</td>\n",
       "      <td>1.0</td>\n",
       "      <td>0.0</td>\n",
       "      <td>1.0</td>\n",
       "    </tr>\n",
       "    <tr>\n",
       "      <th>1</th>\n",
       "      <td>0.034739</td>\n",
       "      <td>-0.172321</td>\n",
       "      <td>-6.134540e-01</td>\n",
       "      <td>0</td>\n",
       "      <td>-0.786159</td>\n",
       "      <td>0</td>\n",
       "      <td>1.0</td>\n",
       "      <td>0.0</td>\n",
       "      <td>1.0</td>\n",
       "      <td>0.0</td>\n",
       "      <td>...</td>\n",
       "      <td>0.0</td>\n",
       "      <td>0.0</td>\n",
       "      <td>0.0</td>\n",
       "      <td>0.0</td>\n",
       "      <td>0.0</td>\n",
       "      <td>0.0</td>\n",
       "      <td>0.0</td>\n",
       "      <td>1.0</td>\n",
       "      <td>0.0</td>\n",
       "      <td>1.0</td>\n",
       "    </tr>\n",
       "    <tr>\n",
       "      <th>2</th>\n",
       "      <td>1.725159</td>\n",
       "      <td>1.896133</td>\n",
       "      <td>1.223740e+00</td>\n",
       "      <td>0</td>\n",
       "      <td>0.553046</td>\n",
       "      <td>0</td>\n",
       "      <td>1.0</td>\n",
       "      <td>0.0</td>\n",
       "      <td>1.0</td>\n",
       "      <td>0.0</td>\n",
       "      <td>...</td>\n",
       "      <td>0.0</td>\n",
       "      <td>0.0</td>\n",
       "      <td>0.0</td>\n",
       "      <td>0.0</td>\n",
       "      <td>0.0</td>\n",
       "      <td>0.0</td>\n",
       "      <td>0.0</td>\n",
       "      <td>1.0</td>\n",
       "      <td>0.0</td>\n",
       "      <td>1.0</td>\n",
       "    </tr>\n",
       "    <tr>\n",
       "      <th>3</th>\n",
       "      <td>0.276228</td>\n",
       "      <td>0.052254</td>\n",
       "      <td>3.051432e-01</td>\n",
       "      <td>0</td>\n",
       "      <td>0.553046</td>\n",
       "      <td>0</td>\n",
       "      <td>1.0</td>\n",
       "      <td>0.0</td>\n",
       "      <td>0.0</td>\n",
       "      <td>1.0</td>\n",
       "      <td>...</td>\n",
       "      <td>0.0</td>\n",
       "      <td>0.0</td>\n",
       "      <td>0.0</td>\n",
       "      <td>0.0</td>\n",
       "      <td>0.0</td>\n",
       "      <td>0.0</td>\n",
       "      <td>0.0</td>\n",
       "      <td>1.0</td>\n",
       "      <td>0.0</td>\n",
       "      <td>1.0</td>\n",
       "    </tr>\n",
       "    <tr>\n",
       "      <th>4</th>\n",
       "      <td>1.725159</td>\n",
       "      <td>1.896133</td>\n",
       "      <td>-6.134540e-01</td>\n",
       "      <td>0</td>\n",
       "      <td>-1.120960</td>\n",
       "      <td>0</td>\n",
       "      <td>1.0</td>\n",
       "      <td>0.0</td>\n",
       "      <td>0.0</td>\n",
       "      <td>1.0</td>\n",
       "      <td>...</td>\n",
       "      <td>0.0</td>\n",
       "      <td>0.0</td>\n",
       "      <td>0.0</td>\n",
       "      <td>0.0</td>\n",
       "      <td>0.0</td>\n",
       "      <td>0.0</td>\n",
       "      <td>0.0</td>\n",
       "      <td>1.0</td>\n",
       "      <td>0.0</td>\n",
       "      <td>1.0</td>\n",
       "    </tr>\n",
       "  </tbody>\n",
       "</table>\n",
       "<p>5 rows × 22 columns</p>\n",
       "</div>"
      ],
      "text/plain": [
       "      exper   expersq      fatheduc  fatheduc_nan  motheduc  motheduc_nan  \\\n",
       "0  1.725159  1.896133  5.439188e-16             1  0.000000             1   \n",
       "1  0.034739 -0.172321 -6.134540e-01             0 -0.786159             0   \n",
       "2  1.725159  1.896133  1.223740e+00             0  0.553046             0   \n",
       "3  0.276228  0.052254  3.051432e-01             0  0.553046             0   \n",
       "4  1.725159  1.896133 -6.134540e-01             0 -1.120960             0   \n",
       "\n",
       "   momdad14  sinmom14  reg661  reg662   ...    reg665  reg666  reg667  reg668  \\\n",
       "0       1.0       0.0     1.0     0.0   ...       0.0     0.0     0.0     0.0   \n",
       "1       1.0       0.0     1.0     0.0   ...       0.0     0.0     0.0     0.0   \n",
       "2       1.0       0.0     1.0     0.0   ...       0.0     0.0     0.0     0.0   \n",
       "3       1.0       0.0     0.0     1.0   ...       0.0     0.0     0.0     0.0   \n",
       "4       1.0       0.0     0.0     1.0   ...       0.0     0.0     0.0     0.0   \n",
       "\n",
       "   reg669  south66  black  smsa  south  smsa66  \n",
       "0     0.0      0.0    1.0   1.0    0.0     1.0  \n",
       "1     0.0      0.0    0.0   1.0    0.0     1.0  \n",
       "2     0.0      0.0    0.0   1.0    0.0     1.0  \n",
       "3     0.0      0.0    0.0   1.0    0.0     1.0  \n",
       "4     0.0      0.0    0.0   1.0    0.0     1.0  \n",
       "\n",
       "[5 rows x 22 columns]"
      ]
     },
     "execution_count": 3,
     "metadata": {},
     "output_type": "execute_result"
    }
   ],
   "source": [
    "# Explore data\n",
    "X_df.head()"
   ]
  },
  {
   "cell_type": "markdown",
   "metadata": {},
   "source": [
    "# 3. A Gentle Start: The Naive Approach <a class=\"anchor\" id=\"naive\"></a>\n",
    "\n",
    "Let's assume we know nothing about instrumental variables and we want to measure the treatment effect of schooling on wages. We can apply an IV-free method like Double Machine Learning (DML) to do this and extract a treatment effect. "
   ]
  },
  {
   "cell_type": "code",
   "execution_count": 4,
   "metadata": {},
   "outputs": [],
   "source": [
    "dml_est = DMLCateEstimator(model_y=RandomForestRegressor(n_estimators=100), \n",
    "                           model_t=RandomForestRegressor(n_estimators=100))"
   ]
  },
  {
   "cell_type": "code",
   "execution_count": 5,
   "metadata": {},
   "outputs": [],
   "source": [
    "dml_est.fit(Y, T, X)\n",
    "dml_ate = dml_est.effect(X).mean()"
   ]
  },
  {
   "cell_type": "code",
   "execution_count": 6,
   "metadata": {},
   "outputs": [
    {
     "name": "stdout",
     "output_type": "stream",
     "text": [
      "Average treatment effect: 0.065\n"
     ]
    }
   ],
   "source": [
    "print(\"Average treatment effect: {0:.3f}\".format(dml_ate))"
   ]
  },
  {
   "cell_type": "markdown",
   "metadata": {},
   "source": [
    "This treatment effect is smaller than other values obtained in literature via IV. Why could that be? \n",
    "\n",
    "Because DML (like all IV-free methods) assumes that the residual errors are uncorrelated (i.e. $Y - \\hat{Y}$ is uncorrelated with $T - \\hat{T}$). Let's test this assumption:"
   ]
  },
  {
   "cell_type": "code",
   "execution_count": 7,
   "metadata": {},
   "outputs": [],
   "source": [
    "# Split data in 2 parts for cross-fitting \n",
    "# We do this to avoid over-fitting\n",
    "T_res, Y_res = np.zeros(T.shape[0]), np.zeros(Y.shape[0])\n",
    "kf = KFold(n_splits=2, shuffle=True)\n",
    "for train_index, test_index in kf.split(X):\n",
    "    T_res[test_index] = T[test_index] - \\\n",
    "    RandomForestRegressor(n_estimators=100).fit(X[train_index], T[train_index]).predict(X[test_index])\n",
    "    Y_res[test_index] = Y[test_index] - \\\n",
    "    RandomForestRegressor(n_estimators=100).fit(X[train_index], Y[train_index]).predict(X[test_index])"
   ]
  },
  {
   "cell_type": "code",
   "execution_count": 8,
   "metadata": {},
   "outputs": [
    {
     "data": {
      "image/png": "[encoded data removed]",
      "text/plain": [
       "<Figure size 432x288 with 1 Axes>"
      ]
     },
     "metadata": {
      "needs_background": "light"
     },
     "output_type": "display_data"
    }
   ],
   "source": [
    "plt.scatter(T_res, Y_res)\n",
    "plt.show()"
   ]
  },
  {
   "cell_type": "code",
   "execution_count": 9,
   "metadata": {},
   "outputs": [
    {
     "name": "stdout",
     "output_type": "stream",
     "text": [
      "Correlation coefficient between T and Y errors: 0.30\n"
     ]
    }
   ],
   "source": [
    "corr_coeficient = pearsonr(T_res, Y_res)[0]\n",
    "print(\"Correlation coefficient between T and Y errors: {0:.2f}\".format(corr_coeficient))"
   ]
  },
  {
   "cell_type": "markdown",
   "metadata": {},
   "source": [
    "The correlation coefficient between the residuals is quite large, which means that there is some unobserved variables that affect both $T$ and $Y$. To get an accurate estimate in this case, we need to use IVs. "
   ]
  },
  {
   "cell_type": "markdown",
   "metadata": {},
   "source": [
    "# 4. Using Intrumental Variables: 2SLS <a class=\"anchor\" id=\"2sls\"></a>\n",
    "\n",
    "Two stage least square regression procedure (2SLS):\n",
    "1. Fit a model $T \\sim W, Z$\n",
    "2. Fit a linear model $Y \\sim \\hat{T}$ where $\\hat{T}$ is the prediction of the model in step 1.\n",
    "The coefficient from 2. above is the average treatment effect.\n",
    "\n",
    "If interested in heterogeneous treatment effects, fit a model $Y \\sim \\hat{T}\\otimes h(X)$, where $h(X)$ is a chosen featurization of the treatment effect. \n",
    "\n",
    "For more information, see the `econml` [documentation](https://econml.azurewebsites.net)."
   ]
  },
  {
   "cell_type": "code",
   "execution_count": 10,
   "metadata": {},
   "outputs": [],
   "source": [
    "# For average treatment effects, X is a column of 1s\n",
    "W = X\n",
    "Z = Z.reshape(-1, 1)\n",
    "T = T.reshape(-1, 1)\n",
    "X_ate = np.ones_like(Z)"
   ]
  },
  {
   "cell_type": "code",
   "execution_count": 11,
   "metadata": {},
   "outputs": [],
   "source": [
    "# We apply 2SLS from the EconML library\n",
    "two_sls_est = NonparametricTwoStageLeastSquares(\n",
    "    t_featurizer=PolynomialFeatures(degree=1, include_bias=False),\n",
    "    x_featurizer=PolynomialFeatures(degree=1, include_bias=False),\n",
    "    z_featurizer=PolynomialFeatures(degree=1, include_bias=False),\n",
    "    dt_featurizer=None) # dt_featurizer only matters for marginal_effect"
   ]
  },
  {
   "cell_type": "code",
   "execution_count": 12,
   "metadata": {},
   "outputs": [],
   "source": [
    "two_sls_est.fit(Y, T, X_ate, W, Z)\n",
    "two_sls_ate = two_sls_est.effect(np.ones((1,1)))[0]"
   ]
  },
  {
   "cell_type": "code",
   "execution_count": 13,
   "metadata": {},
   "outputs": [
    {
     "name": "stdout",
     "output_type": "stream",
     "text": [
      "Average treatment effect: 0.134\n"
     ]
    }
   ],
   "source": [
    "print(\"Average treatment effect: {0:.3f}\".format(two_sls_ate))"
   ]
  },
  {
   "cell_type": "markdown",
   "metadata": {},
   "source": [
    "# 5. Bonus: Deep Instrumental Variables <a class=\"anchor\" id=\"deepiv\"></a>\n",
    "\n",
    "For very flexible, but fully non-parametric IV methods, you can use neural networks for the two models in 2SLS and a mixture of gaussians for the featurizer $h(X)$. In `econml`, this method is called DeepIV. \n",
    "\n",
    "The NLSYM dataset is small (on neural net scale) so applying DeepIV is a bit of a stretch. Nevertheless, we apply DeepIV the NLSYM data as an example. You should not read too much into the results. "
   ]
  },
  {
   "cell_type": "code",
   "execution_count": 15,
   "metadata": {},
   "outputs": [],
   "source": [
    "# Define treatment model, T ~ X, Z\n",
    "treatment_model = keras.Sequential([keras.layers.Dense(64, activation='relu', input_shape=(X.shape[1] + 1,)),\n",
    "                                    keras.layers.Dropout(rate=0.17),\n",
    "                                    keras.layers.Dense(32, activation='relu'),\n",
    "                                    keras.layers.Dropout(rate=0.17),\n",
    "                                    keras.layers.Dense(1)])\n",
    "# Define outcome model, Y ~ T_hat, X\n",
    "response_model = keras.Sequential([keras.layers.Dense(64, activation='relu', input_shape=(X.shape[1] + 1,)),\n",
    "                                   keras.layers.Dropout(rate=0.17),\n",
    "                                   keras.layers.Dense(32, activation='relu'),\n",
    "                                   keras.layers.Dropout(rate=0.17),\n",
    "                                   keras.layers.Dense(1)])"
   ]
  },
  {
   "cell_type": "code",
   "execution_count": 16,
   "metadata": {},
   "outputs": [],
   "source": [
    "keras_fit_options = { \"epochs\": 30,\n",
    "                      \"validation_split\": 0.3,\n",
    "                      \"callbacks\": [keras.callbacks.EarlyStopping(patience=2, restore_best_weights=True)]}\n",
    "\n",
    "deepIvEst = DeepIVEstimator(n_components = 10, # number of gaussians in our mixture density network\n",
    "                            m = lambda z, x : treatment_model(keras.layers.concatenate([z,x])), # treatment model\n",
    "                            h = lambda t, x : response_model(keras.layers.concatenate([t,x])),  # response model\n",
    "                            n_samples = 1, # number of samples to use to estimate the response\n",
    "                            use_upper_bound_loss = False, # whether to use an approximation to the true loss\n",
    "                            n_gradient_samples = 1, # number of samples to use in second estimate of the response (to make loss estimate unbiased)\n",
    "                            optimizer='adam', # Keras optimizer to use for training - see https://keras.io/optimizers/ \n",
    "                            first_stage_options = keras_fit_options, # options for training treatment model\n",
    "                            second_stage_options = keras_fit_options) # options for training response model"
   ]
  },
  {
   "cell_type": "code",
   "execution_count": 17,
   "metadata": {},
   "outputs": [
    {
     "name": "stdout",
     "output_type": "stream",
     "text": [
      "WARNING:tensorflow:From C:\\Users\\moprescu\\AppData\\Local\\Continuum\\anaconda3\\lib\\site-packages\\tensorflow\\python\\ops\\math_ops.py:3066: to_int32 (from tensorflow.python.ops.math_ops) is deprecated and will be removed in a future version.\n",
      "Instructions for updating:\n",
      "Use tf.cast instead.\n",
      "Train on 2093 samples, validate on 898 samples\n",
      "Epoch 1/30\n",
      "2093/2093 [==============================] - 1s 654us/step - loss: 23.8329 - val_loss: 5.9042\n",
      "Epoch 2/30\n",
      "2093/2093 [==============================] - 0s 95us/step - loss: 5.0409 - val_loss: 3.9612\n",
      "Epoch 3/30\n",
      "2093/2093 [==============================] - 0s 118us/step - loss: 3.8898 - val_loss: 3.4648\n",
      "Epoch 4/30\n",
      "2093/2093 [==============================] - 0s 116us/step - loss: 3.5212 - val_loss: 3.2288\n",
      "Epoch 5/30\n",
      "2093/2093 [==============================] - 0s 118us/step - loss: 3.3116 - val_loss: 3.0616\n",
      "Epoch 6/30\n",
      "2093/2093 [==============================] - 0s 77us/step - loss: 3.1305 - val_loss: 2.9131\n",
      "Epoch 7/30\n",
      "2093/2093 [==============================] - 0s 118us/step - loss: 2.9753 - val_loss: 2.7573\n",
      "Epoch 8/30\n",
      "2093/2093 [==============================] - 0s 116us/step - loss: 2.8158 - val_loss: 2.5689\n",
      "Epoch 9/30\n",
      "2093/2093 [==============================] - 0s 111us/step - loss: 2.5800 - val_loss: 2.2856\n",
      "Epoch 10/30\n",
      "2093/2093 [==============================] - 0s 112us/step - loss: 2.2167 - val_loss: 1.7570\n",
      "Epoch 11/30\n",
      "2093/2093 [==============================] - 0s 114us/step - loss: 1.7293 - val_loss: 1.4546\n",
      "Epoch 12/30\n",
      "2093/2093 [==============================] - 0s 110us/step - loss: 1.6448 - val_loss: 1.4081\n",
      "Epoch 13/30\n",
      "2093/2093 [==============================] - 0s 113us/step - loss: 1.6269 - val_loss: 1.4076\n",
      "Epoch 14/30\n",
      "2093/2093 [==============================] - 0s 117us/step - loss: 1.5911 - val_loss: 1.3996\n",
      "Epoch 15/30\n",
      "2093/2093 [==============================] - 0s 87us/step - loss: 1.5620 - val_loss: 1.3765\n",
      "Epoch 16/30\n",
      "2093/2093 [==============================] - 0s 119us/step - loss: 1.5518 - val_loss: 1.3627\n",
      "Epoch 17/30\n",
      "2093/2093 [==============================] - 0s 110us/step - loss: 1.5245 - val_loss: 1.3463\n",
      "Epoch 18/30\n",
      "2093/2093 [==============================] - 0s 110us/step - loss: 1.4822 - val_loss: 1.3022\n",
      "Epoch 19/30\n",
      "2093/2093 [==============================] - 0s 113us/step - loss: 1.5112 - val_loss: 1.3304\n",
      "Epoch 20/30\n",
      "2093/2093 [==============================] - 0s 108us/step - loss: 1.5124 - val_loss: 1.3415\n",
      "Train on 2093 samples, validate on 898 samples\n",
      "Epoch 1/30\n",
      "2093/2093 [==============================] - 3s 1ms/step - loss: 9.3704 - val_loss: 1.8564\n",
      "Epoch 2/30\n",
      "2093/2093 [==============================] - 0s 166us/step - loss: 5.7598 - val_loss: 8.5731\n",
      "Epoch 3/30\n",
      "2093/2093 [==============================] - 0s 164us/step - loss: 5.2696 - val_loss: 1.6304\n",
      "Epoch 4/30\n",
      "2093/2093 [==============================] - 0s 167us/step - loss: 34.8642 - val_loss: 1.8287\n",
      "Epoch 5/30\n",
      "2093/2093 [==============================] - 0s 168us/step - loss: 5.5516 - val_loss: 564.5439\n"
     ]
    }
   ],
   "source": [
    "deepIvEst.fit(Y, T, X, Z)\n",
    "deepIv_effect = deepIvEst.effect(X)"
   ]
  },
  {
   "cell_type": "code",
   "execution_count": 18,
   "metadata": {},
   "outputs": [
    {
     "name": "stdout",
     "output_type": "stream",
     "text": [
      "Average treatment effect: 0.191\n"
     ]
    }
   ],
   "source": [
    "print(\"Average treatment effect: {0:.3f}\".format(deepIv_effect.mean()))"
   ]
  },
  {
   "cell_type": "code",
   "execution_count": 19,
   "metadata": {},
   "outputs": [
    {
     "data": {
      "image/png": "[encoded data removed]",
      "text/plain": [
       "<Figure size 432x288 with 1 Axes>"
      ]
     },
     "metadata": {
      "needs_background": "light"
     },
     "output_type": "display_data"
    }
   ],
   "source": [
    "# Heterogeneity of treatment effects\n",
    "plt.hist(deepIv_effect)\n",
    "plt.show()"
   ]
  },
  {
   "cell_type": "code",
   "execution_count": null,
   "metadata": {},
   "outputs": [],
   "source": []
  }
 ],
 "metadata": {
  "kernelspec": {
   "display_name": "Python 3",
   "language": "python",
   "name": "python3"
  },
  "language_info": {
   "codemirror_mode": {
    "name": "ipython",
    "version": 3
   },
   "file_extension": ".py",
   "mimetype": "text/x-python",
   "name": "python",
   "nbconvert_exporter": "python",
   "pygments_lexer": "ipython3",
   "version": "3.7.1"
  }
 },
 "nbformat": 4,
 "nbformat_minor": 2
}
